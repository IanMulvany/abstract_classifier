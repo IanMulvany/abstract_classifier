{
 "cells": [
  {
   "cell_type": "code",
   "execution_count": 1,
   "metadata": {
    "collapsed": true
   },
   "outputs": [],
   "source": [
    "from xlrd import open_workbook\n",
    "from commonGrant import CommonGrantInfo"
   ]
  },
  {
   "cell_type": "code",
   "execution_count": 2,
   "metadata": {},
   "outputs": [
    {
     "name": "stdout",
     "output_type": "stream",
     "text": [
      "2\n"
     ]
    }
   ],
   "source": [
    "wb = open_workbook(\"funding_files/wellcome/grants-awarded-2000-2015_test.xlsx\")\n",
    "print(len(wb.sheets()))\n",
    "s = wb.sheets()[-1]"
   ]
  },
  {
   "cell_type": "code",
   "execution_count": 49,
   "metadata": {
    "collapsed": true
   },
   "outputs": [],
   "source": [
    "def process_values(values):\n",
    "    print(values)\n",
    "    uid = \"wellcome\" + str(values[2]) # concat funder name with grant reference \n",
    "    this_grant = CommonGrantInfo(uid)\n",
    "    this_grant.funder = \"wellcome trust\"\n",
    "    this_grant.pi = values[4]\n",
    "    return this_grant"
   ]
  },
  {
   "cell_type": "code",
   "execution_count": 50,
   "metadata": {},
   "outputs": [
    {
     "name": "stdout",
     "output_type": "stream",
     "text": [
      "1\n",
      "['2000/01', '063634', '063634/Z/01/Z', 'AGRANOFF ', 'Dr Daniel Agranoff ', '', 'Prof Sanjeev Krishna', 'Advanced Fellowship for Medical Graduates', \"St George's University of London\", 'Greater London', 'United Kingdom', 'Comprehensive functional analysis of the mycobacterium tuberculosis Nramp orthologue and its contribution to intracellular survival. ', 37196.0, 38321.0, 355893.0, 36915.0, 'Clinical Interest Group']\n",
      "2\n",
      "['2000/01', '066619', '066619/Z/01/Z', 'BLAIR ', 'Dr Edward M Blair ', '', 'Prof Hugh Watkins', 'Advanced Fellowship for Medical Graduates', 'University of Oxford', 'South East', 'United Kingdom', 'Study of clinical and molecular genetic pathogenesis of hypertrophic cardiomyopathy. ', 37179.0, 37908.0, 76185.0, 37146.0, 'Cardiovascular Working Party']\n",
      "3\n",
      "['2000/01', '056586', '056586/Z/99/A', 'BROWN ', 'Dr Jeremy S Brown ', '', 'Prof David W Holden', 'Advanced Fellowship for Medical Graduates', 'Imperial College London', 'Greater London', 'United Kingdom', 'A molecular analysis of streptococcus pneumonia virulence. ', 36800.0, 37529.0, 9866.0, 37074.0, 'Clinical Interest Group']\n",
      "4\n",
      "['2000/01', '062868', '062868/Z/00/A', 'BRYANT ', 'Dr Clare E Bryant ', '', 'Prof Duncan J Maskell', 'Advanced Fellowship for Medical Graduates', 'University of Cambridge', 'East of England', 'United Kingdom', 'Lipocortin - 1 regulation of the cellular responses to lipopoly - saccharide and bacterial infection in mice and horses. ', 37104.0, 37468.0, 16000.0, 37074.0, 'Clinical Interest Group']\n",
      "5\n",
      "['2000/01', '062868', '062868/Z/00/Z', 'BRYANT ', 'Dr Clare E Bryant ', '', 'Prof Duncan J Maskell', 'Advanced Fellowship for Medical Graduates', 'University of Cambridge', 'East of England', 'United Kingdom', 'Lipocortin - 1 regulation of the cellular responses to lipopoly- saccharide and bacterial infection in mice and horses. ', 36800.0, 37894.0, 345359.0, 36817.0, 'Clinical Interest Group']\n",
      "6\n",
      "['2000/01', '063557', '063557/Z/01/Z', 'BUTTERY ', 'Dr Phillip C Buttery ', '', 'Prof Charles ffrench-Constant', 'Project Grant', 'University of Cambridge', 'East of England', 'United Kingdom', 'An analysis of the role of integrin receptors in the regulation of morphological plasticity in cerebellar Purkinje neurons. ', 37165.0, 39447.0, 257904.0, 36915.0, 'Clinical Interest Group']\n",
      "7\n",
      "['2000/01', '063645', '063645/Z/01/Z', 'COCK ', 'Dr Hannah Cock ', '', 'Prof S D Shorvon', 'Advanced Fellowship for Medical Graduates', 'University College London', 'Greater London', 'United Kingdom', 'Mechanisms of cell death and neuroprotection following status epilepticus. ', 37135.0, 38260.0, 373192.0, 36915.0, 'Clinical Interest Group']\n",
      "8\n",
      "['2000/01', '065054', '065054/Z/01/Z', 'DOCKRELL ', 'Dr David H Dockrell ', '', 'Prof Moira K B Whyte, Prof Paul G Hellewell', 'Advanced Fellowship for Medical Graduates', 'University of Sheffield', 'Yorkshire and the Humber', 'United Kingdom', 'The role of macrophage apoptosis in the pathogenesis of pneumococcal infection in vitro and in vivo. ', 37165.0, 38503.0, 366580.0, 37074.0, 'Clinical Interest Group']\n",
      "9\n",
      "['2000/01', '054740', '054740/Z/98/B', 'DONNELLY ', 'Dr Seamus C Donnelly ', '', 'Prof Chris Haslett', 'Advanced Fellowship for Medical Graduates', 'University College Dublin', 'Ireland', 'Ireland', 'Macrophage migration inhibitory factor (MIF) and inflammatory lung disease. ', 36800.0, 36981.0, 5458.0, 36817.0, 'Clinical Interest Group']\n"
     ]
    }
   ],
   "source": [
    "for row_index in range(s.nrows-1):\n",
    "    values = []\n",
    "    print(row_index+1)\n",
    "    for col in range(s.ncols):\n",
    "        values.append(s.cell(row_index+1,col).value)\n",
    "    current_grant = process_values(values)"
   ]
  },
  {
   "cell_type": "code",
   "execution_count": 18,
   "metadata": {},
   "outputs": [
    {
     "data": {
      "text/plain": [
       "['2000/01',\n",
       " '054740',\n",
       " '054740/Z/98/B',\n",
       " 'DONNELLY ',\n",
       " 'Dr Seamus C Donnelly ',\n",
       " '',\n",
       " 'Prof Chris Haslett',\n",
       " 'Advanced Fellowship for Medical Graduates',\n",
       " 'University College Dublin',\n",
       " 'Ireland',\n",
       " 'Ireland',\n",
       " 'Macrophage migration inhibitory factor (MIF) and inflammatory lung disease. ',\n",
       " 36800.0,\n",
       " 36981.0,\n",
       " 5458.0,\n",
       " 36817.0,\n",
       " 'Clinical Interest Group']"
      ]
     },
     "execution_count": 18,
     "metadata": {},
     "output_type": "execute_result"
    }
   ],
   "source": [
    "values"
   ]
  },
  {
   "cell_type": "code",
   "execution_count": null,
   "metadata": {
    "collapsed": true
   },
   "outputs": [],
   "source": []
  }
 ],
 "metadata": {
  "kernelspec": {
   "display_name": "Python 3",
   "language": "python",
   "name": "python3"
  },
  "language_info": {
   "codemirror_mode": {
    "name": "ipython",
    "version": 3
   },
   "file_extension": ".py",
   "mimetype": "text/x-python",
   "name": "python",
   "nbconvert_exporter": "python",
   "pygments_lexer": "ipython3",
   "version": "3.6.0"
  }
 },
 "nbformat": 4,
 "nbformat_minor": 2
}
